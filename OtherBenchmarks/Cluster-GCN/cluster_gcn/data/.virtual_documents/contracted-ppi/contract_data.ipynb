import json
import numpy as np
from networkx.readwrite import json_graph
import networkx as nx
from networkx.readwrite import json_graph


graph_json = json.load(open('original-ppi/ppi-G.json'))
G = json_graph.node_link_graph(graph_json)

id_map = json.load(open('original-ppi/ppi-id_map.json'))

class_map = json.load(open('original-ppi/ppi-class_map.json'))

feats = np.load(open('original-ppi/ppi-feats.npy','rb')).astype(np.float32)

num_train = 0
for i in range(G.number_of_nodes()):
    G.nodes[i]['x'] = feats[i]
    G.nodes[i]['y'] = class_map[f"{i}"]
    G.nodes[i]['train'] = False
    if not G.nodes[i]['test'] and not G.nodes[i]['val']:
        G.nodes[i]['train'] = True
        num_train += 1



# Computing node centrality
# BC = nx.betweenness_centrality(G, k=100, normalized=True, weight=None, endpoints=False, seed=None)
# BC = nx.degree_centrality(G)
# BC = nx.pagerank(G, alpha=0.85, personalization=None, max_iter=100, tol=1e-06, nstart=None, dangling=None)
BC = nx.eigenvector_centrality(G, max_iter=10000, tol=1e-06, nstart=None, weight=None)
# BC = nx.closeness_centrality(G, u=None, distance=None, wf_improved=True)
# BC = {}
# for i in node_train:
#     BC[i] = random.Random(seed).randint(0,10000000)


# Reduce Training Graph (by nodes)
N_budget = 15000 # Budget for number of training nodes
N_remove = num_train - N_budget
sortedBC = sorted(BC.items(), key=lambda x:x[1])

i = 0
while N_remove > 0:
    node_to_remove = sortedBC[i][0]
    
    if G.nodes[node_to_remove]['train']:
        neighbors = G.neighbors(node_to_remove)
        
        max_nb_BC = 0
        best_nb = None
        for nb in neighbors:
            if max_nb_BC < BC[nb]:
                best_nb = nb
                max_nb_BC = BC[nb]
                
    
        if best_nb != None and best_nb != node_to_remove: # remove node by merging with best neighbour        
            nx.contracted_nodes(G, best_nb, node_to_remove, self_loops=False, copy=False)
            # G.remove_node(node_to_remove)
        else: # if no neighbor, just remove self
            G.remove_node(node_to_remove)
            
        N_remove -= 1
    i += 1
        
# Cleaning indexing after removal
G = nx.convert_node_labels_to_integers(G, first_label=0, ordering='default')

print(f"new NetworkX graph number of nodes: {G.number_of_nodes()}")
print(f"new NetworkX graph number of edges: {G.number_of_edges()}")


# Get complete graph
# Get new x_train, y_train, and edge_train
x = np.empty((G.number_of_nodes(),feats.shape[1]))
y = {}
new_id_map = {}
edge_index = np.array([edge for edge in G.edges()])
new_G = nx.Graph()

for node in G.nodes(data=True):
    x[node[0],:] = node[1]['x']
    y[f"{node[0]}"] = node[1]['y']
    new_id_map[f"{node[0]}"] = node[0]
    new_G.add_node(node[0])
    new_G.nodes[node[0]]['val'] = node[1]['val']
    new_G.nodes[node[0]]['test'] = node[1]['test']
    
new_G.add_edges_from(G.edges())

print(f"New number of nodes: {x.shape[0]}")
print(f"New number of edges: {edge_index.shape[0]}")


# saving class map JSON
file = open('contracted-ppi-class_map.json','w')
json.dump(y,file)

# saving id map JSON
file = open('contracted-ppi-id_map.json','w')
json.dump(new_id_map,file)

# saving JSON graph file
file = open('contracted-ppi-G.json', 'w')
json.dump(json_graph.node_link_data(new_G),file)

# saving fature npy file
np.save('contracted-ppi-feats.npy',x)



